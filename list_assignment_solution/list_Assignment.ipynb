{
 "cells": [
  {
   "cell_type": "markdown",
   "metadata": {},
   "source": [
    "# Module 3: Data Structures Assignments\n",
    "## Lesson 3.1: Lists\n",
    "### Assignment 1: Creating and Accessing Lists\n",
    "\n",
    "Create a list of the first 20 positive integers. Print the list.\n",
    "\n"
   ]
  },
  {
   "cell_type": "code",
   "execution_count": 113,
   "metadata": {},
   "outputs": [
    {
     "name": "stdout",
     "output_type": "stream",
     "text": [
      "[1, 4, 9, 16]\n"
     ]
    }
   ],
   "source": [
    "\n",
    "n=20\n",
    "l1=[]\n",
    "for i in range(1,n+1):\n",
    "    l1.append(i)\n",
    "print(l)"
   ]
  },
  {
   "cell_type": "markdown",
   "id": "304b9c4f",
   "metadata": {},
   "source": [
    "### Assignment 2: Accessing List Elements\n",
    "\n",
    "Print the first, middle, and last elements of the list created in Assignment 1.\n"
   ]
  },
  {
   "cell_type": "code",
   "execution_count": 115,
   "id": "2101ed8a",
   "metadata": {},
   "outputs": [
    {
     "name": "stdout",
     "output_type": "stream",
     "text": [
      "1\n",
      "11\n",
      "20\n"
     ]
    }
   ],
   "source": [
    "print(l1[0])\n",
    "print(l1[n//2])\n",
    "print(l1[-1])"
   ]
  },
  {
   "cell_type": "markdown",
   "id": "cf5052f6",
   "metadata": {},
   "source": [
    "\n",
    "### Assignment 3: List Slicing\n",
    "\n",
    "Print the first five elements, the last five elements, and the elements from index 5 to 15 of the list created in Assignment 1.\n"
   ]
  },
  {
   "cell_type": "code",
   "execution_count": 98,
   "id": "a7dfc36d",
   "metadata": {},
   "outputs": [
    {
     "name": "stdout",
     "output_type": "stream",
     "text": [
      "[1, 2, 3, 4, 5]\n",
      "[2, 3, 4, 5, 6]\n",
      "[6]\n"
     ]
    }
   ],
   "source": [
    "print(l[:5])\n",
    "print(l[-5:])\n",
    "print(l[5:15])"
   ]
  },
  {
   "cell_type": "markdown",
   "id": "768cf97e",
   "metadata": {},
   "source": [
    "\n",
    "### Assignment 4: List Comprehensions\n",
    "\n",
    "Create a new list containing the squares of the first 10 positive integers using a list comprehension. Print the new list.\n"
   ]
  },
  {
   "cell_type": "code",
   "execution_count": 112,
   "id": "7d47f4e9",
   "metadata": {},
   "outputs": [
    {
     "name": "stdout",
     "output_type": "stream",
     "text": [
      "[1, 4, 9, 16]\n"
     ]
    }
   ],
   "source": [
    "l=[i*i for i in range(1,int(input())+1)]\n",
    "print(l)"
   ]
  },
  {
   "cell_type": "markdown",
   "id": "d583b10e",
   "metadata": {},
   "source": [
    "\n",
    "### Assignment 5: Filtering Lists\n",
    "\n",
    "Create a new list containing only the even numbers from the list created in Assignment 1 using a list comprehension. Print the new list.\n"
   ]
  },
  {
   "cell_type": "code",
   "execution_count": 100,
   "id": "4a3c533d",
   "metadata": {},
   "outputs": [
    {
     "name": "stdout",
     "output_type": "stream",
     "text": [
      "[2, 4, 6]\n"
     ]
    }
   ],
   "source": [
    "l = [i for i in l if i%2==0]\n",
    "print(l)"
   ]
  },
  {
   "cell_type": "markdown",
   "id": "d206376d",
   "metadata": {},
   "source": [
    "\n",
    "### Assignment 6: List Methods\n",
    "\n",
    "Create a list of random numbers and sort it in ascending and descending order. Remove the duplicates from the list and print the modified list.\n"
   ]
  },
  {
   "cell_type": "code",
   "execution_count": 101,
   "id": "ce90bf73",
   "metadata": {},
   "outputs": [
    {
     "name": "stdout",
     "output_type": "stream",
     "text": [
      "[14, 10, 4, 7, 15, 16, 4, 20, 13, 10, 2, 10, 3, 10, 4]\n",
      "[2, 3, 4, 4, 4, 7, 10, 10, 10, 10, 13, 14, 15, 16, 20]\n",
      "[20, 16, 15, 14, 13, 10, 10, 10, 10, 7, 4, 4, 4, 3, 2]\n",
      "{2, 3, 4, 7, 10, 13, 14, 15, 16, 20}\n"
     ]
    }
   ],
   "source": [
    "\n",
    "import random\n",
    "l=[]\n",
    "\n",
    "l=[random.randint(1,20) for _ in range(15)]\n",
    "print(l)\n",
    "print(sorted(l))\n",
    "print(sorted(l,reverse=True))\n",
    "print(set(l))\n"
   ]
  },
  {
   "cell_type": "markdown",
   "id": "3004da1b",
   "metadata": {},
   "source": [
    "\n",
    "### Assignment 7: Nested Lists\n",
    "\n",
    "Create a nested list representing a 3x3 matrix and print the matrix. Access and print the element at the second row and third column.\n"
   ]
  },
  {
   "cell_type": "code",
   "execution_count": 102,
   "id": "873663ed",
   "metadata": {},
   "outputs": [
    {
     "name": "stdout",
     "output_type": "stream",
     "text": [
      "5\n"
     ]
    }
   ],
   "source": [
    "m=[[1,2,3],[3,4,5],[4,5,6]]\n",
    "print(m[1][2])"
   ]
  },
  {
   "cell_type": "markdown",
   "id": "a7b7e2a4",
   "metadata": {},
   "source": [
    "\n",
    "### Assignment 8: List of Dictionaries\n",
    "\n",
    "Create a list of dictionaries where each dictionary represents a student with keys 'name' and 'score'. Sort the list of dictionaries by the 'score' in descending order and print the sorted list.\n",
    "\n"
   ]
  },
  {
   "cell_type": "code",
   "execution_count": 103,
   "id": "df140606",
   "metadata": {},
   "outputs": [
    {
     "name": "stdout",
     "output_type": "stream",
     "text": [
      "{'name': 'Likki', 'score': 100}\n",
      "{'name': 'sanjay', 'score': 100}\n",
      "{'name': 'Mouli', 'score': 99}\n"
     ]
    }
   ],
   "source": [
    "dic = [{ \"name\" :\"Mouli\", \"score\":99},{\"name\":\"Likki\", \"score\":100},{\"name\":\"sanjay\",\"score\":100}]\n",
    "s = sorted(dic, key=lambda x: x[\"score\"], reverse=True)\n",
    "for student in s:\n",
    "    print(student)\n"
   ]
  },
  {
   "cell_type": "markdown",
   "id": "d7ebdd29",
   "metadata": {},
   "source": [
    "### Assignment 9: Matrix Transposition\n",
    "\n",
    "Write a function that takes a 3x3 matrix (nested list) as input and returns its transpose. Print the original and transposed matrices.\n",
    "\n"
   ]
  },
  {
   "cell_type": "code",
   "execution_count": 104,
   "id": "47f903c9",
   "metadata": {},
   "outputs": [
    {
     "name": "stdout",
     "output_type": "stream",
     "text": [
      "[[1, 4, 6], [2, 5, 7], [3, 6, 8]]\n"
     ]
    }
   ],
   "source": [
    "def transpose(matrix):\n",
    "    m = [[matrix[j][i] for j in range(len(matrix))] for i in range(len(matrix[0]))]\n",
    "    return m\n",
    "matrix =[[1,2,3],[4,5,6],[6,7,8]]\n",
    "m=transpose(matrix)\n",
    "print(m)"
   ]
  },
  {
   "cell_type": "markdown",
   "id": "82c738d0",
   "metadata": {},
   "source": [
    "### Assignment 10: Flattening a Nested List\n",
    "\n",
    "Write a function that takes a nested list and flattens it into a single list. Print the original and flattened lists.\n",
    "\n"
   ]
  },
  {
   "cell_type": "code",
   "execution_count": 105,
   "id": "d678e8a9",
   "metadata": {},
   "outputs": [
    {
     "name": "stdout",
     "output_type": "stream",
     "text": [
      "[1, 2, 3, 4, 5, 6, 6, 7, 8]\n"
     ]
    }
   ],
   "source": [
    "def flatten(matrix):\n",
    "    m=[matrix[i][j] for i in range(len(matrix)) for j in range(len(matrix[0]))]\n",
    "    return m\n",
    "matrix =[[1,2,3],[4,5,6],[6,7,8]]\n",
    "m=flatten(matrix)\n",
    "print(m)"
   ]
  },
  {
   "cell_type": "markdown",
   "id": "f071d18f",
   "metadata": {},
   "source": [
    "### Assignment 11: List Manipulation\n",
    "\n",
    "Create a list of the first 10 positive integers. Remove the elements at indices 2, 4, and 6, and insert the element '99' at index 5. Print the modified list.\n",
    "\n"
   ]
  },
  {
   "cell_type": "code",
   "execution_count": 106,
   "id": "c2dea7ad",
   "metadata": {},
   "outputs": [
    {
     "name": "stdout",
     "output_type": "stream",
     "text": [
      "[11, 12, 14, 15, 17, 99, 18, 20]\n"
     ]
    }
   ],
   "source": [
    "l=[11,12,13,14,15,16,17,18,19,20]\n",
    "l.pop(2)\n",
    "l.pop(4)\n",
    "l.pop(6)\n",
    "l.insert(5,99)\n",
    "print(l)"
   ]
  },
  {
   "cell_type": "markdown",
   "id": "c81351e6",
   "metadata": {},
   "source": [
    "### Assignment 12: List Zipping\n",
    "\n",
    "Create two lists of the same length. Use the `zip` function to combine these lists into a list of tuples and print the result.\n",
    "\n"
   ]
  },
  {
   "cell_type": "code",
   "execution_count": 107,
   "id": "d175d012",
   "metadata": {},
   "outputs": [
    {
     "data": {
      "text/plain": [
       "[<zip at 0x10ce241c0>]"
      ]
     },
     "execution_count": 107,
     "metadata": {},
     "output_type": "execute_result"
    }
   ],
   "source": [
    "l1=[1,2,3,5]\n",
    "l2=[4,5,6,7]\n",
    "l=[zip(l1,l2)]\n",
    "l"
   ]
  },
  {
   "cell_type": "markdown",
   "id": "e6c007d9",
   "metadata": {},
   "source": [
    "### Assignment 13: List Reversal\n",
    "\n",
    "Write a function that takes a list and returns a new list with the elements in reverse order. Print the original and reversed lists.\n",
    "\n"
   ]
  },
  {
   "cell_type": "code",
   "execution_count": 108,
   "id": "5a7aea1c",
   "metadata": {},
   "outputs": [
    {
     "name": "stdout",
     "output_type": "stream",
     "text": [
      "[1, 2, 3, 4, 5, 6, 7, 8]\n",
      "[8, 7, 6, 5, 4, 3, 2, 1]\n"
     ]
    }
   ],
   "source": [
    "def reverse(l):\n",
    "    p=[x for x in range(len(l),0,-1)]\n",
    "    return p\n",
    "    \n",
    "l=[1,2,3,4,5,6,7,8]\n",
    "p=reverse(l)\n",
    "print(l)\n",
    "print(p)"
   ]
  },
  {
   "cell_type": "markdown",
   "id": "fead9a14",
   "metadata": {},
   "source": [
    "### Assignment 14: List Rotation\n",
    "\n",
    "Write a function that rotates a list by n positions. Print the original and rotated lists.\n",
    "\n"
   ]
  },
  {
   "cell_type": "code",
   "execution_count": 111,
   "id": "c808dba8",
   "metadata": {},
   "outputs": [
    {
     "name": "stdout",
     "output_type": "stream",
     "text": [
      "[3, 4, 5, 6, 1, 2]\n",
      "[1, 2, 3, 4, 5, 6]\n"
     ]
    }
   ],
   "source": [
    "def rotate(l,key):\n",
    "    p=[x for x in range(key+1, len(l)+1)]\n",
    "    p.extend((l[:key]))\n",
    "    return p\n",
    "l=[1,2,3,4,5,6]\n",
    "key=int(input())\n",
    "p=rotate(l,key)\n",
    "print(p)\n",
    "print(l)"
   ]
  },
  {
   "cell_type": "markdown",
   "id": "7e5fdae4",
   "metadata": {},
   "source": [
    "### Assignment 15: List Intersection\n",
    "\n",
    "Write a function that takes two lists and returns a new list containing only the elements that are present in both lists. Print the intersected list."
   ]
  },
  {
   "cell_type": "code",
   "execution_count": 110,
   "id": "007f6ad5",
   "metadata": {},
   "outputs": [
    {
     "name": "stdout",
     "output_type": "stream",
     "text": [
      "[4, 5, 6]\n"
     ]
    }
   ],
   "source": [
    "def intersect(l1,l2):\n",
    "    return list(set(l2) & set(l1))\n",
    "\n",
    "l1=[1,2,3,4,5,6]\n",
    "l2=[4,5,6,7,8,9]\n",
    "p=intersect(l1,l2)\n",
    "print(p)"
   ]
  },
  {
   "cell_type": "code",
   "execution_count": null,
   "id": "5fff6c9d",
   "metadata": {},
   "outputs": [],
   "source": []
  },
  {
   "cell_type": "code",
   "execution_count": null,
   "id": "f0d1fc7d",
   "metadata": {},
   "outputs": [],
   "source": []
  }
 ],
 "metadata": {
  "kernelspec": {
   "display_name": "my_env",
   "language": "python",
   "name": "python3"
  },
  "language_info": {
   "codemirror_mode": {
    "name": "ipython",
    "version": 3
   },
   "file_extension": ".py",
   "mimetype": "text/x-python",
   "name": "python",
   "nbconvert_exporter": "python",
   "pygments_lexer": "ipython3",
   "version": "3.12.0"
  }
 },
 "nbformat": 4,
 "nbformat_minor": 5
}
