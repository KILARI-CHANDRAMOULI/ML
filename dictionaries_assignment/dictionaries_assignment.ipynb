{
 "cells": [
  {
   "cell_type": "markdown",
   "metadata": {},
   "source": [
    "# Module 3: Data Structures Assignments\n",
    "## Lesson 3.4: Dictionaries\n",
    "### Assignment 1: Creating and Accessing Dictionaries\n",
    "\n",
    "Create a dictionary with the first 10 positive integers as keys and their squares as values. Print the dictionary.\n"
   ]
  },
  {
   "cell_type": "code",
   "execution_count": 1,
   "id": "b83a4799",
   "metadata": {},
   "outputs": [
    {
     "name": "stdout",
     "output_type": "stream",
     "text": [
      "{1: 1, 2: 4, 3: 9, 4: 16, 5: 25, 6: 36, 7: 49, 8: 64, 9: 81, 10: 100}\n"
     ]
    }
   ],
   "source": [
    "d1={x:x*x for x in range(1,11)}\n",
    "print(d1)"
   ]
  },
  {
   "cell_type": "markdown",
   "id": "d521ad46",
   "metadata": {},
   "source": [
    "\n",
    "### Assignment 2: Accessing Dictionary Elements\n",
    "\n",
    "Print the value of the key 5 and the keys of the dictionary created in Assignment 1.\n"
   ]
  },
  {
   "cell_type": "code",
   "execution_count": 3,
   "id": "a95c1a01",
   "metadata": {},
   "outputs": [
    {
     "name": "stdout",
     "output_type": "stream",
     "text": [
      "25\n",
      "dict_keys([1, 2, 3, 4, 5, 6, 7, 8, 9, 10])\n"
     ]
    }
   ],
   "source": [
    "print(d1[5])\n",
    "print(d1.keys())"
   ]
  },
  {
   "cell_type": "markdown",
   "id": "57ecca21",
   "metadata": {},
   "source": [
    "\n",
    "### Assignment 3: Dictionary Methods\n",
    "\n",
    "Add a new key-value pair (11, 121) to the dictionary created in Assignment 1 and then remove the key-value pair with key 1. Print the modified dictionary.\n"
   ]
  },
  {
   "cell_type": "code",
   "execution_count": 4,
   "id": "0d6a31c3",
   "metadata": {},
   "outputs": [
    {
     "name": "stdout",
     "output_type": "stream",
     "text": [
      "{1: 1, 2: 4, 3: 9, 4: 16, 5: 25, 6: 36, 7: 49, 8: 64, 9: 81, 10: 100, 11: 121}\n"
     ]
    }
   ],
   "source": [
    "d1[11]=121\n",
    "print(d1)"
   ]
  },
  {
   "cell_type": "markdown",
   "id": "ff281a17",
   "metadata": {},
   "source": [
    "\n",
    "### Assignment 4: Iterating Over Dictionaries\n",
    "\n",
    "Iterate over the dictionary created in Assignment 1 and print each key-value pair.\n"
   ]
  },
  {
   "cell_type": "code",
   "execution_count": 9,
   "id": "07b40c54",
   "metadata": {},
   "outputs": [
    {
     "name": "stdout",
     "output_type": "stream",
     "text": [
      "1:1\n",
      "2:4\n",
      "3:9\n",
      "4:16\n",
      "5:25\n",
      "6:36\n",
      "7:49\n",
      "8:64\n",
      "9:81\n",
      "10:100\n",
      "11:121\n"
     ]
    }
   ],
   "source": [
    "for key,value in d1.items():\n",
    "    print(f\"{key}:{value}\")"
   ]
  },
  {
   "cell_type": "markdown",
   "id": "0f522d8d",
   "metadata": {},
   "source": [
    "\n",
    "### Assignment 5: Dictionary Comprehensions\n",
    "\n",
    "Create a new dictionary containing the cubes of the first 10 positive integers using a dictionary comprehension. Print the new dictionary.\n"
   ]
  },
  {
   "cell_type": "code",
   "execution_count": 10,
   "id": "930f9e84",
   "metadata": {},
   "outputs": [
    {
     "name": "stdout",
     "output_type": "stream",
     "text": [
      "{1: 1, 2: 8, 3: 27, 4: 64, 5: 125, 6: 216, 7: 343, 8: 512, 9: 729, 10: 1000}\n"
     ]
    }
   ],
   "source": [
    "d2={x:x**3 for x in range(1,11)}\n",
    "print(d2)"
   ]
  },
  {
   "cell_type": "markdown",
   "id": "e48478f6",
   "metadata": {},
   "source": [
    "\n",
    "### Assignment 6: Merging Dictionaries\n",
    "\n",
    "Create two dictionaries: one with keys as the first 5 positive integers and values as their squares, and another with keys as the next 5 positive integers and values as their squares. Merge these dictionaries into a single dictionary and print it.\n"
   ]
  },
  {
   "cell_type": "code",
   "execution_count": 13,
   "id": "aacbb66a",
   "metadata": {},
   "outputs": [
    {
     "name": "stdout",
     "output_type": "stream",
     "text": [
      "{1: 1, 2: 4, 3: 9, 4: 16, 5: 25, 6: 36, 7: 49, 8: 64, 9: 81, 10: 100}\n"
     ]
    }
   ],
   "source": [
    "d3={x:x**2 for x in range(1,6)}\n",
    "d4={x:x**2 for x in range(6,11)}\n",
    "d3.update(d4)\n",
    "print(d3)"
   ]
  },
  {
   "cell_type": "markdown",
   "id": "77275d12",
   "metadata": {},
   "source": [
    "\n",
    "### Assignment 7: Nested Dictionaries\n",
    "\n",
    "Create a nested dictionary representing a student with keys 'name', 'age', 'grades', where 'grades' is another dictionary with keys 'math', 'science', and 'english'. Print the nested dictionary.\n"
   ]
  },
  {
   "cell_type": "code",
   "execution_count": 15,
   "id": "93b4e7f0",
   "metadata": {},
   "outputs": [
    {
     "name": "stdout",
     "output_type": "stream",
     "text": [
      "{'name': 'a', 'age': 21, 'grades': {'math': 'A', 'Sciene': 'B', 'English': 'A'}}\n"
     ]
    }
   ],
   "source": [
    "d5={'name':'a','age':21,'grades':{'math':'A','Sciene':'B','English':'A'}}\n",
    "print(d5)"
   ]
  },
  {
   "cell_type": "markdown",
   "id": "7b03cfbc",
   "metadata": {},
   "source": [
    "\n",
    "### Assignment 8: Dictionary of Lists\n",
    "\n",
    "Create a dictionary where the keys are the first 5 positive integers and the values are lists containing the first 5 multiples of the key. Print the dictionary.\n"
   ]
  },
  {
   "cell_type": "code",
   "execution_count": 9,
   "id": "07ac324b",
   "metadata": {},
   "outputs": [
    {
     "name": "stdout",
     "output_type": "stream",
     "text": [
      "{1: [1, 2, 3, 4, 5], 2: [2, 4, 6, 8, 10], 3: [3, 6, 9, 12, 15], 4: [4, 8, 12, 16, 20], 5: [5, 10, 15, 20, 25]}\n"
     ]
    }
   ],
   "source": [
    "d6={i:[i*j for j in range(1,6)] for i in range(1,6)}\n",
    "print(d6)"
   ]
  },
  {
   "cell_type": "markdown",
   "id": "2de4b087",
   "metadata": {},
   "source": [
    "\n",
    "### Assignment 9: Dictionary of Tuples\n",
    "\n",
    "Create a dictionary where the keys are the first 5 positive integers and the values are tuples containing the key and its square. Print the dictionary.\n"
   ]
  },
  {
   "cell_type": "code",
   "execution_count": 13,
   "id": "f193071b",
   "metadata": {},
   "outputs": [
    {
     "name": "stdout",
     "output_type": "stream",
     "text": [
      "{1: (1, 1), 2: (2, 4), 3: (3, 9), 4: (4, 16), 5: (5, 25)}\n"
     ]
    }
   ],
   "source": [
    "d7={i:(i,i**2) for i in range(1,6)}\n",
    "print(d7)"
   ]
  },
  {
   "cell_type": "markdown",
   "id": "6de8325f",
   "metadata": {},
   "source": [
    "\n",
    "### Assignment 10: Dictionary and List Conversion\n",
    "\n",
    "Create a dictionary with the first 5 positive integers as keys and their squares as values. Convert the dictionary to a list of tuples and print it.\n"
   ]
  },
  {
   "cell_type": "code",
   "execution_count": 18,
   "id": "efa3ef59",
   "metadata": {},
   "outputs": [
    {
     "name": "stdout",
     "output_type": "stream",
     "text": [
      "[(1, (1, 1)), (2, (2, 4)), (3, (3, 9)), (4, (4, 16)), (5, (5, 25))]\n"
     ]
    }
   ],
   "source": [
    "l8 = list(d7.items())\n",
    "print(l8)\n"
   ]
  },
  {
   "cell_type": "markdown",
   "id": "b756df1d",
   "metadata": {},
   "source": [
    "\n",
    "### Assignment 11: Dictionary Filtering\n",
    "\n",
    "Create a dictionary with the first 10 positive integers as keys and their squares as values. Create a new dictionary containing only the key-value pairs where the key is even. Print the new dictionary.\n"
   ]
  },
  {
   "cell_type": "code",
   "execution_count": 19,
   "id": "3758648a",
   "metadata": {},
   "outputs": [
    {
     "name": "stdout",
     "output_type": "stream",
     "text": [
      "{2: (2, 4), 4: (4, 16), 6: (6, 36), 8: (8, 64), 10: (10, 100)}\n"
     ]
    }
   ],
   "source": [
    "d8={i:(i,i**2) for i in range(1,11) if i%2==0}\n",
    "print(d8)\n"
   ]
  },
  {
   "cell_type": "markdown",
   "id": "6230fb85",
   "metadata": {},
   "source": [
    "\n",
    "### Assignment 12: Dictionary Key and Value Transformation\n",
    "\n",
    "Create a dictionary with the first 5 positive integers as keys and their squares as values. Create a new dictionary with keys and values swapped. Print the new dictionary.\n"
   ]
  },
  {
   "cell_type": "code",
   "execution_count": 21,
   "id": "53dddea9",
   "metadata": {},
   "outputs": [
    {
     "name": "stdout",
     "output_type": "stream",
     "text": [
      "{(1, 1): 1, (2, 4): 2, (3, 9): 3, (4, 16): 4, (5, 25): 5}\n"
     ]
    }
   ],
   "source": [
    "d9={i:(i,i**2) for i in range(1,6)}\n",
    "d10={ keys: values for values,keys in d9.items()}\n",
    "print(d10)\n",
    "\n"
   ]
  },
  {
   "cell_type": "markdown",
   "id": "8e244e08",
   "metadata": {},
   "source": [
    "\n",
    "### Assignment 13: Default Dictionary\n",
    "\n",
    "Create a default dictionary where each key has a default value of an empty list. Add some elements to the lists and print the dictionary.\n"
   ]
  },
  {
   "cell_type": "code",
   "execution_count": 23,
   "id": "0ab80e5e",
   "metadata": {},
   "outputs": [
    {
     "name": "stdout",
     "output_type": "stream",
     "text": [
      "defaultdict(<class 'list'>, {})\n",
      "defaultdict(<class 'list'>, {1: [1], 2: [4], 3: [9]})\n"
     ]
    }
   ],
   "source": [
    "from collections import defaultdict\n",
    "d11=defaultdict(list)\n",
    "print(d11)\n",
    "d11[1].append(1)\n",
    "d11[2].append(4)\n",
    "d11[3].append(9)\n",
    "print(d11)"
   ]
  },
  {
   "cell_type": "markdown",
   "id": "84e22474",
   "metadata": {},
   "source": [
    "\n",
    "### Assignment 14: Counting with Dictionaries\n",
    "\n",
    "Write a function that takes a string and returns a dictionary with the count of each character in the string. Print the dictionary.\n"
   ]
  },
  {
   "cell_type": "code",
   "execution_count": 25,
   "id": "f5fd8c3f",
   "metadata": {},
   "outputs": [
    {
     "name": "stdout",
     "output_type": "stream",
     "text": [
      "{'a': 4, 'b': 4, 'c': 3, 'd': 2, 'e': 1}\n"
     ]
    }
   ],
   "source": [
    "def counting(s):\n",
    "    p={}\n",
    "    for i in s:\n",
    "        if i in p:\n",
    "            p[i]+=1\n",
    "        else:\n",
    "            p[i]=1\n",
    "    return p\n",
    "s='aabbcddeaabbcc'\n",
    "l=counting(s)\n",
    "print(l)"
   ]
  },
  {
   "cell_type": "markdown",
   "id": "6fab21b7",
   "metadata": {},
   "source": [
    "\n",
    "### Assignment 15: Dictionary and JSON\n",
    "\n",
    "Create a dictionary representing a book with keys 'title', 'author', 'year', and 'genre'. Convert the dictionary to a JSON string and print it."
   ]
  },
  {
   "cell_type": "code",
   "execution_count": 27,
   "metadata": {},
   "outputs": [
    {
     "name": "stdout",
     "output_type": "stream",
     "text": [
      "{\"title\": \"The Book\", \"author\": \"Book Author\", \"year\": 1990, \"genre\": \"comedy\"}\n"
     ]
    }
   ],
   "source": [
    "import json\n",
    "book={'title':\"The Book\",'author':\"Book Author\",\"year\":1990,\"genre\":\"comedy\"}\n",
    "book_json = json.dumps(book)\n",
    "print(book_json)"
   ]
  },
  {
   "cell_type": "code",
   "execution_count": null,
   "id": "24905567",
   "metadata": {},
   "outputs": [],
   "source": []
  }
 ],
 "metadata": {
  "kernelspec": {
   "display_name": "my_env",
   "language": "python",
   "name": "python3"
  },
  "language_info": {
   "codemirror_mode": {
    "name": "ipython",
    "version": 3
   },
   "file_extension": ".py",
   "mimetype": "text/x-python",
   "name": "python",
   "nbconvert_exporter": "python",
   "pygments_lexer": "ipython3",
   "version": "3.12.0"
  }
 },
 "nbformat": 4,
 "nbformat_minor": 5
}
