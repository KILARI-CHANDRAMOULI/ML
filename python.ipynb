{
 "cells": [
  {
   "cell_type": "markdown",
   "metadata": {},
   "source": [
    "### 1. Set Matrix Zero\n",
    "\n",
    "### Problem Statement 1: Given a matrix if an element in the matrix is 0 then you will have to set its entire column and row to 0 and then return the matrix.\n",
    "\n",
    "### Input: matrix = \n",
    "###                 [[1,1,1],\n",
    "###                 [1,0,1],\n",
    "###                 [1,1,1]]\n",
    "### Output: \n",
    "###         [[1,0,1],\n",
    "###         [0,0,0],\n",
    "###         [1,0,1]]\n",
    "         \n"
   ]
  },
  {
   "cell_type": "code",
   "execution_count": 11,
   "metadata": {},
   "outputs": [
    {
     "name": "stdout",
     "output_type": "stream",
     "text": [
      "a a a 0 \n",
      "a a 6 a \n",
      "0 a a a \n",
      "a 0 a a \n",
      "\n",
      "\n",
      "0 0 0 0 \n",
      "0 0 6 0 \n",
      "0 0 0 0 \n",
      "0 0 0 0 \n"
     ]
    }
   ],
   "source": [
    "def set_matrix_zero_brf(Matrix):\n",
    "\n",
    "    for i in range(len(Matrix)):\n",
    "        for j in range(len(Matrix[0])):\n",
    "            if Matrix[i][j]==0:\n",
    "                for k in range(len(Matrix)):\n",
    "                    if Matrix[i][k]!=0:\n",
    "                        Matrix[i][k]=\"a\"\n",
    "                for k in range(len(Matrix[0])):\n",
    "                    if Matrix[k][j]!=0:\n",
    "                        Matrix[k][j]=\"a\"\n",
    "\n",
    "\n",
    "    for i in range(len(Matrix)):\n",
    "        for j in range(len(Matrix[0])):\n",
    "            print(Matrix[i][j],end=' ')\n",
    "        print()\n",
    "    print()\n",
    "    print()\n",
    "\n",
    "\n",
    "    for i in range(len(Matrix)):\n",
    "        for j in range(len(Matrix[0])):\n",
    "            if Matrix[i][j]==\"a\":\n",
    "                Matrix[i][j]=0\n",
    "\n",
    "\n",
    "    for i in range(len(Matrix)):\n",
    "        for j in range(len(Matrix[0])):\n",
    "            print(Matrix[i][j],end=' ')\n",
    "        print()\n",
    "\n",
    "        \n",
    "\n",
    "matrix=[[1,2,3,0],\n",
    "        [4,5,6,7],\n",
    "        [0,9,8,7],\n",
    "        [7,0,4,5]]\n",
    "\n",
    "set_matrix_zero_brf(matrix)"
   ]
  },
  {
   "cell_type": "code",
   "execution_count": 15,
   "metadata": {},
   "outputs": [
    {
     "name": "stdout",
     "output_type": "stream",
     "text": [
      "0 0 0 0 \n",
      "0 0 6 0 \n",
      "0 0 0 0 \n",
      "0 0 0 0 \n",
      "\n",
      "\n"
     ]
    }
   ],
   "source": [
    "def set_matrix_zero(Matrix):\n",
    "        r=[]\n",
    "        c=[]\n",
    "        for i in range(len(Matrix)):\n",
    "                r.append(0)\n",
    "        for i in range(len(Matrix[0])):\n",
    "                c.append(0)\n",
    "        \n",
    "\n",
    "        for i in range(len(Matrix)):\n",
    "                for j in range(len(Matrix[0])):\n",
    "                        if Matrix[i][j]==0:\n",
    "                                r[i]=1\n",
    "                                c[j]=1\n",
    "        for i in range(len(Matrix)):\n",
    "                for j in range(len(Matrix[0])):\n",
    "                        if r[i] or c[j]:\n",
    "                                Matrix[i][j]=0\n",
    "        for i in range(len(Matrix)):\n",
    "                for j in range(len(Matrix[0])):\n",
    "                        print(Matrix[i][j],end=' ')\n",
    "                print()\n",
    "        print()\n",
    "        print()\n",
    "        \n",
    "\n",
    "            \n",
    "    \n",
    "matrix=[[1,2,3,0],\n",
    "        [4,5,6,7],\n",
    "        [0,9,8,7],\n",
    "        [7,0,4,5]]\n",
    "\n",
    "set_matrix_zero(matrix)"
   ]
  },
  {
   "cell_type": "code",
   "execution_count": 21,
   "metadata": {},
   "outputs": [
    {
     "name": "stdout",
     "output_type": "stream",
     "text": [
      "0 0 3 0 \n",
      "0 0 6 0 \n",
      "0 0 0 0 \n",
      "0 0 4 0 \n"
     ]
    }
   ],
   "source": [
    "def set_matrix_zero_opt(Matrix):\n",
    "\n",
    "        col=1\n",
    "\n",
    "        for i in range(len(Matrix)):\n",
    "                for j in range(len(Matrix[0])):\n",
    "                        if Matrix[i][j]==0:\n",
    "                                Matrix[i][0]==0\n",
    "                                if j!=0:\n",
    "                                        Matrix[0][j]=0\n",
    "                                else:\n",
    "                                        col=0\n",
    "        for i in range(len(Matrix)):\n",
    "                for j in range(len(Matrix[0])):\n",
    "                        if Matrix[i][j]!=0:\n",
    "                                if Matrix[0][j]==0 or Matrix[i][0]==0:\n",
    "         \n",
    "                                       Matrix[i][j]=0\n",
    "        \n",
    "        if Matrix[0][0]==0:\n",
    "                for j in range(len(Matrix)):\n",
    "                        Matrix[0][j]=0\n",
    "        if col==0:\n",
    "                for i in range(len(Matrix[0])):\n",
    "                        Matrix[i][0] = 0\n",
    "\n",
    "        for i in range(len(matrix)):\n",
    "                for j in range(len(Matrix[0])):\n",
    "                        print(Matrix[i][j],end=' ')\n",
    "                print()\n",
    "\n",
    "\n",
    "        \n",
    "                                \n",
    "     \n",
    "matrix=[[1,2,3,0],\n",
    "        [4,5,6,7],\n",
    "        [0,9,8,7],\n",
    "        [7,0,4,5]]\n",
    "\n",
    "set_matrix_zero_opt(matrix)"
   ]
  },
  {
   "cell_type": "code",
   "execution_count": null,
   "metadata": {},
   "outputs": [],
   "source": []
  },
  {
   "cell_type": "code",
   "execution_count": null,
   "metadata": {},
   "outputs": [],
   "source": []
  }
 ],
 "metadata": {
  "kernelspec": {
   "display_name": "my_env",
   "language": "python",
   "name": "python3"
  },
  "language_info": {
   "codemirror_mode": {
    "name": "ipython",
    "version": 3
   },
   "file_extension": ".py",
   "mimetype": "text/x-python",
   "name": "python",
   "nbconvert_exporter": "python",
   "pygments_lexer": "ipython3",
   "version": "3.12.0"
  }
 },
 "nbformat": 4,
 "nbformat_minor": 2
}
